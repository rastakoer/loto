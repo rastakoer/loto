{
 "cells": [
  {
   "attachments": {},
   "cell_type": "markdown",
   "metadata": {},
   "source": [
    "# REDUCTION DE GRILLE AU LOTO"
   ]
  },
  {
   "attachments": {},
   "cell_type": "markdown",
   "metadata": {},
   "source": [
    "Pour jouer à LOTO®, il vous suffit de cocher 6 numéros : 5 numéros sur une grille de 49 numéros et 1 numéro chance sur une grille de 10 numéros. Vous remportez le jackpot si vous avez 5 numéros gagnants et le numéro complémentaire. Le prix d’une grille est de 2,20 €. Le jackpot minimum est de 2 millions d’euros. S’il n’est pas remporté le jour du tirage, le jackpot progresse d’1 million d’euros.\n",
    "\n",
    "Depuis novembre 2019, vous pouvez également choisir l’option 2nd tirage, pour 0,80€ supplémentaires. Elle vous permet de retenter votre chance avec les mêmes 5 numéros de la grille, hors numéro Chance.\n",
    "\n",
    "Pour chaque prise de jeu chez un détaillant, sur le site fdj.fr ou sur notre application jeu FDJ® iOS ou Android, vous avez le choix entre 2 types de grilles :\n",
    "\n",
    "Grille simple : vous optez pour 5 numéros et 1 numéro chance sur une grille à 2,20 €.\n",
    "Grille multiple : vous sélectionnez plus de numéros et/ ou plus de numéros « chance ». Le prix d’une grille multiple dépend du nombre de numéros choisis. Retrouvez toutes les combinaisons possibles pour jouer.\n",
    "\n",
    "Vous avez la possibilité de cocher l’option de jeu « 2nd tirage » en rejouant vos 5 numéros et d’augmenter vos chances de gain à près d’une sur 4 pour un Jackpot de 100 000€ minimum(1l) à partager.\n",
    "\n",
    "\n",
    "Quand ont lieu les tirages du LOTO® ?\n",
    "\n",
    "Les tirages du LOTO® ont lieu tous les lundis, mercredis et samedis à 20h20. Il s’agit également de l’heure limite pour annuler votre prise de jeu. Il ne s’agit pas de l’heure de diffusion des résultats des tirages."
   ]
  },
  {
   "attachments": {},
   "cell_type": "markdown",
   "metadata": {},
   "source": [
    "## Recuperation des données"
   ]
  },
  {
   "cell_type": "code",
   "execution_count": 2,
   "metadata": {},
   "outputs": [],
   "source": [
    "import urllib.request\n",
    "import zipfile\n",
    "import io \n",
    "import pandas as pd\n",
    "import seaborn as sns\n",
    "import matplotlib.pyplot as plt\n",
    "import operator as op\n",
    "import itertools\n",
    "\n",
    "\n"
   ]
  },
  {
   "attachments": {},
   "cell_type": "markdown",
   "metadata": {},
   "source": [
    "### Telechargement et decompression des données"
   ]
  },
  {
   "cell_type": "code",
   "execution_count": 3,
   "metadata": {},
   "outputs": [],
   "source": [
    "url = \"https://media.fdj.fr/static-draws/csv/loto/loto_201911.zip\" # URL du fichier zip à télécharger\n",
    "filename = \"fichier.zip\" # Nom du fichier zip à enregistrer\n",
    "foldername = \"/home/kevin/workspace/py-sql/loto/data\" # Nom du dossier où extraire le contenu du fichier zip\n",
    "\n",
    "# Télécharger le fichier zip\n",
    "urllib.request.urlretrieve(url, filename)\n",
    "\n",
    "# Ouvrir le fichier zip\n",
    "zip = zipfile.ZipFile(filename)\n",
    "\n",
    "# Extraire le contenu du fichier zip dans un dossier\n",
    "zip.extractall(foldername)\n",
    "\n",
    "# Fermer le fichier zip\n",
    "zip.close()"
   ]
  },
  {
   "attachments": {},
   "cell_type": "markdown",
   "metadata": {},
   "source": [
    "### Etude du csv"
   ]
  },
  {
   "cell_type": "code",
   "execution_count": 4,
   "metadata": {},
   "outputs": [
    {
     "data": {
      "text/html": [
       "<div>\n",
       "<style scoped>\n",
       "    .dataframe tbody tr th:only-of-type {\n",
       "        vertical-align: middle;\n",
       "    }\n",
       "\n",
       "    .dataframe tbody tr th {\n",
       "        vertical-align: top;\n",
       "    }\n",
       "\n",
       "    .dataframe thead th {\n",
       "        text-align: right;\n",
       "    }\n",
       "</style>\n",
       "<table border=\"1\" class=\"dataframe\">\n",
       "  <thead>\n",
       "    <tr style=\"text-align: right;\">\n",
       "      <th></th>\n",
       "      <th>annee_numero_de_tirage</th>\n",
       "      <th>jour_de_tirage</th>\n",
       "      <th>date_de_tirage</th>\n",
       "      <th>date_de_forclusion</th>\n",
       "      <th>boule_1</th>\n",
       "      <th>boule_2</th>\n",
       "      <th>boule_3</th>\n",
       "      <th>boule_4</th>\n",
       "      <th>boule_5</th>\n",
       "      <th>numero_chance</th>\n",
       "      <th>...</th>\n",
       "      <th>rapport_du_rang1_second_tirage</th>\n",
       "      <th>nombre_de_gagnant_au_rang_2_second_tirage</th>\n",
       "      <th>rapport_du_rang2_second_tirage</th>\n",
       "      <th>nombre_de_gagnant_au_rang_3_second_tirage</th>\n",
       "      <th>rapport_du_rang3_second_tirage</th>\n",
       "      <th>nombre_de_gagnant_au_rang_4_second_tirage</th>\n",
       "      <th>rapport_du_rang4_second_tirage</th>\n",
       "      <th>numero_jokerplus</th>\n",
       "      <th>devise</th>\n",
       "      <th>Unnamed: 49</th>\n",
       "    </tr>\n",
       "  </thead>\n",
       "  <tbody>\n",
       "    <tr>\n",
       "      <th>0</th>\n",
       "      <td>20233042</td>\n",
       "      <td>SAMEDI</td>\n",
       "      <td>08/04/2023</td>\n",
       "      <td>08/06/2023</td>\n",
       "      <td>19</td>\n",
       "      <td>35</td>\n",
       "      <td>48</td>\n",
       "      <td>3</td>\n",
       "      <td>42</td>\n",
       "      <td>10</td>\n",
       "      <td>...</td>\n",
       "      <td>151856</td>\n",
       "      <td>421</td>\n",
       "      <td>1174,8</td>\n",
       "      <td>17795</td>\n",
       "      <td>71,4</td>\n",
       "      <td>261431</td>\n",
       "      <td>6</td>\n",
       "      <td>Jokerplus indisponible</td>\n",
       "      <td>eur</td>\n",
       "      <td>NaN</td>\n",
       "    </tr>\n",
       "    <tr>\n",
       "      <th>1</th>\n",
       "      <td>20233041</td>\n",
       "      <td>MERCREDI</td>\n",
       "      <td>05/04/2023</td>\n",
       "      <td>05/06/2023</td>\n",
       "      <td>31</td>\n",
       "      <td>33</td>\n",
       "      <td>16</td>\n",
       "      <td>29</td>\n",
       "      <td>39</td>\n",
       "      <td>2</td>\n",
       "      <td>...</td>\n",
       "      <td>124578</td>\n",
       "      <td>292</td>\n",
       "      <td>398,3</td>\n",
       "      <td>12140</td>\n",
       "      <td>24,6</td>\n",
       "      <td>165532</td>\n",
       "      <td>3</td>\n",
       "      <td>3 080 596</td>\n",
       "      <td>eur</td>\n",
       "      <td>NaN</td>\n",
       "    </tr>\n",
       "    <tr>\n",
       "      <th>2</th>\n",
       "      <td>20233040</td>\n",
       "      <td>LUNDI</td>\n",
       "      <td>03/04/2023</td>\n",
       "      <td>03/06/2023</td>\n",
       "      <td>49</td>\n",
       "      <td>15</td>\n",
       "      <td>39</td>\n",
       "      <td>31</td>\n",
       "      <td>46</td>\n",
       "      <td>4</td>\n",
       "      <td>...</td>\n",
       "      <td>104597</td>\n",
       "      <td>312</td>\n",
       "      <td>300</td>\n",
       "      <td>11691</td>\n",
       "      <td>20,5</td>\n",
       "      <td>143819</td>\n",
       "      <td>3</td>\n",
       "      <td>0 833 472</td>\n",
       "      <td>eur</td>\n",
       "      <td>NaN</td>\n",
       "    </tr>\n",
       "    <tr>\n",
       "      <th>3</th>\n",
       "      <td>20233039</td>\n",
       "      <td>SAMEDI</td>\n",
       "      <td>01/04/2023</td>\n",
       "      <td>01/06/2023</td>\n",
       "      <td>44</td>\n",
       "      <td>48</td>\n",
       "      <td>17</td>\n",
       "      <td>12</td>\n",
       "      <td>35</td>\n",
       "      <td>8</td>\n",
       "      <td>...</td>\n",
       "      <td>42409</td>\n",
       "      <td>457</td>\n",
       "      <td>347,5</td>\n",
       "      <td>16857</td>\n",
       "      <td>24,2</td>\n",
       "      <td>224897</td>\n",
       "      <td>3</td>\n",
       "      <td>9 211 458</td>\n",
       "      <td>eur</td>\n",
       "      <td>NaN</td>\n",
       "    </tr>\n",
       "    <tr>\n",
       "      <th>4</th>\n",
       "      <td>20233038</td>\n",
       "      <td>MERCREDI</td>\n",
       "      <td>29/03/2023</td>\n",
       "      <td>29/05/2023</td>\n",
       "      <td>34</td>\n",
       "      <td>1</td>\n",
       "      <td>32</td>\n",
       "      <td>14</td>\n",
       "      <td>11</td>\n",
       "      <td>9</td>\n",
       "      <td>...</td>\n",
       "      <td>24256</td>\n",
       "      <td>436</td>\n",
       "      <td>231,4</td>\n",
       "      <td>15008</td>\n",
       "      <td>17,2</td>\n",
       "      <td>175833</td>\n",
       "      <td>3</td>\n",
       "      <td>9 652 847</td>\n",
       "      <td>eur</td>\n",
       "      <td>NaN</td>\n",
       "    </tr>\n",
       "  </tbody>\n",
       "</table>\n",
       "<p>5 rows × 50 columns</p>\n",
       "</div>"
      ],
      "text/plain": [
       "   annee_numero_de_tirage jour_de_tirage date_de_tirage date_de_forclusion   \n",
       "0                20233042       SAMEDI       08/04/2023         08/06/2023  \\\n",
       "1                20233041       MERCREDI     05/04/2023         05/06/2023   \n",
       "2                20233040       LUNDI        03/04/2023         03/06/2023   \n",
       "3                20233039       SAMEDI       01/04/2023         01/06/2023   \n",
       "4                20233038       MERCREDI     29/03/2023         29/05/2023   \n",
       "\n",
       "   boule_1  boule_2  boule_3  boule_4  boule_5  numero_chance  ...   \n",
       "0       19       35       48        3       42             10  ...  \\\n",
       "1       31       33       16       29       39              2  ...   \n",
       "2       49       15       39       31       46              4  ...   \n",
       "3       44       48       17       12       35              8  ...   \n",
       "4       34        1       32       14       11              9  ...   \n",
       "\n",
       "  rapport_du_rang1_second_tirage  nombre_de_gagnant_au_rang_2_second_tirage   \n",
       "0                         151856                                        421  \\\n",
       "1                         124578                                        292   \n",
       "2                         104597                                        312   \n",
       "3                          42409                                        457   \n",
       "4                          24256                                        436   \n",
       "\n",
       "   rapport_du_rang2_second_tirage  nombre_de_gagnant_au_rang_3_second_tirage   \n",
       "0                          1174,8                                      17795  \\\n",
       "1                           398,3                                      12140   \n",
       "2                             300                                      11691   \n",
       "3                           347,5                                      16857   \n",
       "4                           231,4                                      15008   \n",
       "\n",
       "  rapport_du_rang3_second_tirage  nombre_de_gagnant_au_rang_4_second_tirage   \n",
       "0                           71,4                                     261431  \\\n",
       "1                           24,6                                     165532   \n",
       "2                           20,5                                     143819   \n",
       "3                           24,2                                     224897   \n",
       "4                           17,2                                     175833   \n",
       "\n",
       "  rapport_du_rang4_second_tirage        numero_jokerplus devise  Unnamed: 49  \n",
       "0                              6  Jokerplus indisponible    eur          NaN  \n",
       "1                              3               3 080 596    eur          NaN  \n",
       "2                              3               0 833 472    eur          NaN  \n",
       "3                              3               9 211 458    eur          NaN  \n",
       "4                              3               9 652 847    eur          NaN  \n",
       "\n",
       "[5 rows x 50 columns]"
      ]
     },
     "execution_count": 4,
     "metadata": {},
     "output_type": "execute_result"
    }
   ],
   "source": [
    "# Chargement des données\n",
    "data = pd.read_csv(\"/home/kevin/workspace/py-sql/loto/data/loto_201911.csv\", sep=\";\")\n",
    "data.head()"
   ]
  },
  {
   "cell_type": "code",
   "execution_count": 5,
   "metadata": {},
   "outputs": [
    {
     "name": "stdout",
     "output_type": "stream",
     "text": [
      "['annee_numero_de_tirage', 'jour_de_tirage', 'date_de_tirage', 'date_de_forclusion', 'boule_1', 'boule_2', 'boule_3', 'boule_4', 'boule_5', 'numero_chance', 'combinaison_gagnante_en_ordre_croissant', 'nombre_de_gagnant_au_rang1', 'rapport_du_rang1', 'nombre_de_gagnant_au_rang2', 'rapport_du_rang2', 'nombre_de_gagnant_au_rang3', 'rapport_du_rang3', 'nombre_de_gagnant_au_rang4', 'rapport_du_rang4', 'nombre_de_gagnant_au_rang5', 'rapport_du_rang5', 'nombre_de_gagnant_au_rang6', 'rapport_du_rang6', 'nombre_de_gagnant_au_rang7', 'rapport_du_rang7', 'nombre_de_gagnant_au_rang8', 'rapport_du_rang8', 'nombre_de_gagnant_au_rang9', 'rapport_du_rang9', 'nombre_de_codes_gagnants', 'rapport_codes_gagnants', 'codes_gagnants', 'boule_1_second_tirage', 'boule_2_second_tirage', 'boule_3_second_tirage', 'boule_4_second_tirage', 'boule_5_second_tirage', 'promotion_second_tirage', 'combinaison_gagnant_second_tirage_en_ordre_croissant', 'nombre_de_gagnant_au_rang_1_second_tirage', 'rapport_du_rang1_second_tirage', 'nombre_de_gagnant_au_rang_2_second_tirage', 'rapport_du_rang2_second_tirage', 'nombre_de_gagnant_au_rang_3_second_tirage', 'rapport_du_rang3_second_tirage', 'nombre_de_gagnant_au_rang_4_second_tirage', 'rapport_du_rang4_second_tirage', 'numero_jokerplus', 'devise', 'Unnamed: 49']\n"
     ]
    }
   ],
   "source": [
    "print(data.columns.tolist()) "
   ]
  },
  {
   "attachments": {},
   "cell_type": "markdown",
   "metadata": {},
   "source": [
    "### Netoyage du dataset\n"
   ]
  },
  {
   "cell_type": "code",
   "execution_count": null,
   "metadata": {},
   "outputs": [],
   "source": []
  },
  {
   "cell_type": "code",
   "execution_count": 6,
   "metadata": {},
   "outputs": [],
   "source": [
    "for i in range(2,8):\n",
    "    data[f\"rapport_du_rang{i}\"] = data[f\"rapport_du_rang{i}\"].apply(lambda x: float(x.replace(\",\", \".\")))\n",
    "for i in range(2,4):\n",
    "    data[f\"rapport_du_rang{i}_second_tirage\"] = data[f\"rapport_du_rang{i}_second_tirage\"].apply(lambda x: float(x.replace(\",\", \".\")))"
   ]
  },
  {
   "attachments": {},
   "cell_type": "markdown",
   "metadata": {},
   "source": [
    "### Les rapports "
   ]
  },
  {
   "cell_type": "code",
   "execution_count": 7,
   "metadata": {},
   "outputs": [
    {
     "name": "stdout",
     "output_type": "stream",
     "text": [
      "Nombre de tirage : 537\n",
      "Rapport moyen rang 1 : 7440254.5\n",
      "Rapport moyen rang 2 : 133411.27\n",
      "Rapport moyen rang 3 : 2542.04\n",
      "Rapport moyen rang 4 : 453.66\n",
      "Rapport moyen rang 5 : 55.12\n",
      "Rapport moyen rang 6 : 21.15\n",
      "Rapport moyen rang 7 : 10.59\n",
      "Rapport moyen rang 1 second tirage: 106554.34\n",
      "Rapport moyen rang 2 second tirage: 586.73\n",
      "Rapport moyen rang 3 second tirage: 32.72\n",
      "Rapport moyen rang 4 second tirage: 3.06\n"
     ]
    }
   ],
   "source": [
    "print(\"Nombre de tirage :\", data.shape[0])\n",
    "for i in range(1,8):\n",
    "    print(f\"Rapport moyen rang {i} :\", round(data[f\"rapport_du_rang{i}\"].mean(),2))\n",
    "for i in range(1,5):\n",
    "    print(f\"Rapport moyen rang {i} second tirage:\", round(data[f\"rapport_du_rang{i}_second_tirage\"].mean(),2))"
   ]
  },
  {
   "attachments": {},
   "cell_type": "markdown",
   "metadata": {},
   "source": [
    "### Le nombre de gagnants"
   ]
  },
  {
   "cell_type": "code",
   "execution_count": 8,
   "metadata": {},
   "outputs": [
    {
     "name": "stdout",
     "output_type": "stream",
     "text": [
      "Nombre moyen de gagnants au rang 1 : 0.21\n",
      "Nombre moyen de gagnants au rang 2 : 1.95\n",
      "Nombre moyen de gagnants au rang 3 : 49.13\n",
      "Nombre moyen de gagnants au rang 4 : 438.81\n",
      "Nombre moyen de gagnants au rang 5 : 2090.16\n",
      "Nombre moyen de gagnants au rang 6 : 18865.19\n",
      "Nombre moyen de gagnants au rang 7 : 29383.26\n",
      "Nombre moyen de gagnants au rang 1 du second tirage : 1.29\n",
      "Nombre moyen de gagnants au rang 2 du second tirage : 267.33\n",
      "Nombre moyen de gagnants au rang 3 du second tirage : 11413.42\n",
      "Nombre moyen de gagnants au rang 4 du second tirage : 159215.02\n"
     ]
    }
   ],
   "source": [
    "for i in range(1,8):\n",
    "    print(f\"Nombre moyen de gagnants au rang {i} :\", round(data[f\"nombre_de_gagnant_au_rang{i}\"].mean(),2))\n",
    "for i in range(1,5):\n",
    "    print(f\"Nombre moyen de gagnants au rang {i} du second tirage :\", round(data[f\"nombre_de_gagnant_au_rang_{i}_second_tirage\"].mean(),2))"
   ]
  },
  {
   "attachments": {},
   "cell_type": "markdown",
   "metadata": {},
   "source": [
    "### Somme distribué (nombre de gagnants moyen multipié par le rapport moyen)"
   ]
  },
  {
   "cell_type": "code",
   "execution_count": 9,
   "metadata": {},
   "outputs": [
    {
     "name": "stdout",
     "output_type": "stream",
     "text": [
      "Somme distribuée au rang 1 : 1579495.37\n",
      "Somme distribuée au rang 2 : 260611.6\n",
      "Somme distribuée au rang 3 : 124891.43\n",
      "Somme distribuée au rang 4 : 199070.85\n",
      "Somme distribuée au rang 5 : 115209.76\n",
      "Somme distribuée au rang 6 : 398997.01\n",
      "Somme distribuée au rang 7 : 311079.54\n",
      "Somme moyenne distribuée au premier tirage :  2989355.5599999996 €\n",
      "Somme distribuée au rang 1 : 137111.82\n",
      "Somme distribuée au rang 2 : 156848.46\n",
      "Somme distribuée au rang 3 : 373401.59\n",
      "Somme distribuée au rang 4 : 487429.22\n",
      "Somme moyenne distribuée au second tirage :  1154791.09 €\n"
     ]
    }
   ],
   "source": [
    "total = 0\n",
    "for i in range(1,8):\n",
    "    somme = round(data[f\"nombre_de_gagnant_au_rang{i}\"].mean()*data[f\"rapport_du_rang{i}\"].mean(),2)\n",
    "    print(f\"Somme distribuée au rang {i} :\", somme)\n",
    "    total += somme\n",
    "print(\"Somme moyenne distribuée au premier tirage : \", total,\"€\")\n",
    "\n",
    "total=0\n",
    "for i in range(1,5):\n",
    "    somme = round(data[f\"nombre_de_gagnant_au_rang_{i}_second_tirage\"].mean()*data[f\"rapport_du_rang{i}_second_tirage\"].mean(),2)\n",
    "    print(f\"Somme distribuée au rang {i} :\", somme)\n",
    "    total += somme\n",
    "print(\"Somme moyenne distribuée au second tirage : \", total,\"€\")"
   ]
  },
  {
   "attachments": {},
   "cell_type": "markdown",
   "metadata": {},
   "source": [
    "### la fréquence de sortie"
   ]
  },
  {
   "cell_type": "code",
   "execution_count": 10,
   "metadata": {},
   "outputs": [
    {
     "data": {
      "image/png": "[encoded data removed]",
      "text/plain": [
       "<Figure size 2000x800 with 1 Axes>"
      ]
     },
     "metadata": {},
     "output_type": "display_data"
    }
   ],
   "source": [
    "table=[]\n",
    "for i in range(1,50):\n",
    "    table.append([i,data.iloc[:,4:9].eq(i).sum().sum()])\n",
    "\n",
    "df = pd.DataFrame(table,columns=[\"nombre\",\"freq\"])\n",
    "plt.figure(figsize=(20,8))\n",
    "sns.barplot(data=df, x=df.nombre, y=df.freq)\n",
    "plt.show()"
   ]
  },
  {
   "cell_type": "code",
   "execution_count": 11,
   "metadata": {},
   "outputs": [
    {
     "name": "stdout",
     "output_type": "stream",
     "text": [
      "le chiffre le plus fréquemment sorti : le  35  avec  68 tirages\n",
      "le chiffre le moins fréquemment sorti : 18  avec  42 tirages\n"
     ]
    }
   ],
   "source": [
    "print(\"le chiffre le plus fréquemment sorti : le \",df.iloc[df.freq.idxmax(),0],\" avec \", df.freq.max(),\"tirages\")\n",
    "print(\"le chiffre le moins fréquemment sorti :\",df.iloc[df.freq.idxmin(),0],\" avec \", df.freq.min(),\"tirages\")"
   ]
  },
  {
   "attachments": {},
   "cell_type": "markdown",
   "metadata": {},
   "source": [
    "### Transformation des ligne de la colonne 'combinaison_gagnante_en_ordre_croissant' et 'combinaison_gagnant_second_tirage_en_ordre_croissant' afin de voir combiend de fois il y a des chiffres qui se suivent"
   ]
  },
  {
   "cell_type": "code",
   "execution_count": 12,
   "metadata": {},
   "outputs": [],
   "source": [
    "data['combinaison_gagnante_en_ordre_croissant'] = data['combinaison_gagnante_en_ordre_croissant'].apply(lambda x: x.split(\"+\")[0])\n",
    "data['combinaison_gagnante_en_ordre_croissant'] = data['combinaison_gagnante_en_ordre_croissant'].apply(lambda x: x.split(\"-\"))"
   ]
  },
  {
   "cell_type": "code",
   "execution_count": 13,
   "metadata": {},
   "outputs": [
    {
     "data": {
      "text/plain": [
       "0       [3, 19, 35, 42, 48]\n",
       "1      [16, 29, 31, 33, 39]\n",
       "2      [15, 31, 39, 46, 49]\n",
       "3      [12, 17, 35, 44, 48]\n",
       "4       [1, 11, 14, 32, 34]\n",
       "               ...         \n",
       "532    [10, 13, 19, 22, 35]\n",
       "533    [13, 14, 25, 27, 28]\n",
       "534     [6, 18, 24, 26, 29]\n",
       "535    [23, 27, 42, 43, 44]\n",
       "536      [1, 9, 16, 39, 42]\n",
       "Name: combinaison_gagnante_en_ordre_croissant, Length: 537, dtype: object"
      ]
     },
     "execution_count": 13,
     "metadata": {},
     "output_type": "execute_result"
    }
   ],
   "source": [
    "data['combinaison_gagnante_en_ordre_croissant']"
   ]
  },
  {
   "attachments": {},
   "cell_type": "markdown",
   "metadata": {},
   "source": [
    "## Nombre de tirage depuis qu'un numèro n'est pas sortie"
   ]
  },
  {
   "cell_type": "code",
   "execution_count": 14,
   "metadata": {},
   "outputs": [
    {
     "data": {
      "image/png": "[encoded data removed]",
      "text/plain": [
       "<Figure size 2000x1000 with 1 Axes>"
      ]
     },
     "metadata": {},
     "output_type": "display_data"
    }
   ],
   "source": [
    "x, y =[],[]\n",
    "for i in range(1,50):\n",
    "    for j in data.index:\n",
    "        if i in list(map(int,data['combinaison_gagnante_en_ordre_croissant'][j])):\n",
    "            x.append(i)\n",
    "            y.append(j)\n",
    "            break\n",
    "\n",
    "\n",
    "plt.figure(figsize=(20,10))\n",
    "sns.barplot(x=x,y=y)\n",
    "plt.title(\"Nombre de tirages depuis lequel un numéro n'est pas sorti\")\n",
    "plt.xlabel(\"Numéro de la boule\", style='italic')\n",
    "plt.ylabel(\"Nombre de tirages\", style='italic')\n",
    "plt.show()"
   ]
  },
  {
   "attachments": {},
   "cell_type": "markdown",
   "metadata": {},
   "source": [
    "## EDA numero chance"
   ]
  },
  {
   "cell_type": "code",
   "execution_count": 15,
   "metadata": {},
   "outputs": [
    {
     "data": {
      "image/png": "[encoded data removed]",
      "text/plain": [
       "<Figure size 2000x800 with 2 Axes>"
      ]
     },
     "metadata": {},
     "output_type": "display_data"
    }
   ],
   "source": [
    "x, y =[],[]\n",
    "for i in range(1,11):\n",
    "    for j in data.index:\n",
    "        if i==data['numero_chance'][j]:\n",
    "            x.append(i)\n",
    "            y.append(j)\n",
    "            break\n",
    "\n",
    "table=[]\n",
    "for i in range(1,11):\n",
    "    table.append([i,data.loc[:,\"numero_chance\"].eq(i).sum().sum()])\n",
    "df = pd.DataFrame(table,columns=[\"nombre\",\"freq\"])\n",
    "\n",
    "f,ax=plt.subplots(1,2,figsize=(20,8))\n",
    "sns.barplot(x=x,y=y,ax=ax[0])\n",
    "ax[0].set_title(\"Nombre de tirages depuis lequel un numéro n'est pas sorti\")\n",
    "ax[0].set_xlabel(\"Numéro de la boule\", style='italic')\n",
    "ax[0].set_ylabel(\"Nombre de tirages\", style='italic')\n",
    "sns.barplot(data=df, x=df.nombre, y=df.freq,ax=ax[1])\n",
    "ax[1].set_title(\"Nombre de sortie\")\n",
    "ax[1].set_xlabel(\"Numéro de la boule\", style='italic')\n",
    "ax[1].set_ylabel(\"Nombre de tirages\", style='italic')\n",
    "plt.show()\n"
   ]
  },
  {
   "cell_type": "code",
   "execution_count": null,
   "metadata": {},
   "outputs": [],
   "source": []
  },
  {
   "attachments": {},
   "cell_type": "markdown",
   "metadata": {},
   "source": [
    "### Suite sur les 5 numéros"
   ]
  },
  {
   "cell_type": "code",
   "execution_count": 16,
   "metadata": {},
   "outputs": [
    {
     "name": "stdout",
     "output_type": "stream",
     "text": [
      "suite\n",
      "0.0    327\n",
      "1.0    188\n",
      "2.0     21\n",
      "3.0      1\n",
      "Name: count, dtype: int64\n"
     ]
    },
    {
     "data": {
      "image/png": "[encoded data removed]",
      "text/plain": [
       "<Figure size 640x480 with 1 Axes>"
      ]
     },
     "metadata": {},
     "output_type": "display_data"
    }
   ],
   "source": [
    "for i in range(data.shape[0]):\n",
    "    tirage = data.iloc[i,10]\n",
    "    count=int(0)\n",
    "    for j in range(4):\n",
    "        if int(tirage[j])+1==int(tirage[j+1]):\n",
    "            count+=1\n",
    "    data.loc[data.index[i],\"suite\"] = count\n",
    "\n",
    "print(data[\"suite\"].value_counts())\n",
    "\n",
    "sns.countplot(x=data[\"suite\"])\n",
    "plt.show()"
   ]
  },
  {
   "cell_type": "code",
   "execution_count": 17,
   "metadata": {},
   "outputs": [
    {
     "name": "stdout",
     "output_type": "stream",
     "text": [
      "Pourcentage de tirage sans numéro qui se suivent :  60.89 %\n",
      "Pourcentage de tirage avec 2 numéros qui se suivent :  35.01 %\n"
     ]
    }
   ],
   "source": [
    "print(\"Pourcentage de tirage sans numéro qui se suivent : \", round(data.loc[data.suite==0,\"suite\"].value_counts().iloc[0]*100/data.shape[0],2),\"%\")\n",
    "print(\"Pourcentage de tirage avec 2 numéros qui se suivent : \", round(data.loc[data.suite==1,\"suite\"].value_counts().iloc[0]*100/data.shape[0],2),\"%\")"
   ]
  },
  {
   "cell_type": "code",
   "execution_count": 18,
   "metadata": {},
   "outputs": [
    {
     "name": "stdout",
     "output_type": "stream",
     "text": [
      "Pourcentage de tirage avec 3 numéros qui se suivent :  1.68 %\n"
     ]
    }
   ],
   "source": [
    "for i in range(data.shape[0]):\n",
    "    tirage = data.iloc[i,10]\n",
    "    count=int(0)\n",
    "    for j in range(3):\n",
    "        if (int(tirage[j])+1==int(tirage[j+1])) and (int(tirage[j+1])+1==int(tirage[j+2])):\n",
    "            count+=1\n",
    "    data.loc[data.index[i],\"suite_3\"] = count\n",
    "\n",
    "print(\"Pourcentage de tirage avec 3 numéros qui se suivent : \", round(data.loc[data.suite_3==1,\"suite\"].value_counts().iloc[0]*100/data.shape[0],2),\"%\")"
   ]
  },
  {
   "attachments": {},
   "cell_type": "markdown",
   "metadata": {},
   "source": [
    "### Repartition par dizaines : nombre de dizaine manquante sur un tirage"
   ]
  },
  {
   "cell_type": "code",
   "execution_count": 19,
   "metadata": {},
   "outputs": [
    {
     "data": {
      "image/png": "[encoded data removed]",
      "text/plain": [
       "<Figure size 640x480 with 1 Axes>"
      ]
     },
     "metadata": {},
     "output_type": "display_data"
    }
   ],
   "source": [
    "for i in range(data.shape[0]): \n",
    "    result=[0,0,0,0,0]\n",
    "    for j in data.iloc[i,10]:\n",
    "        if int(j)<10:\n",
    "            result[0]+=1\n",
    "        elif int(j)>=10 and int(j)<20:\n",
    "            result[1]+=1\n",
    "        elif int(j)>=20 and int(j)<30:\n",
    "            result[2]+=1\n",
    "        elif int(j)>=30 and int(j)<40:\n",
    "            result[3]+=1\n",
    "        else:\n",
    "            result[4]+=1\n",
    "    data.loc[data.index[i],\"diz_not_use\"]=op.countOf(result, 0)\n",
    "    \n",
    "sns.countplot(x=data[\"diz_not_use\"])\n",
    "plt.show()"
   ]
  },
  {
   "attachments": {},
   "cell_type": "markdown",
   "metadata": {},
   "source": [
    "#### Il est preferable de retirer les tirages s'il ne manque aucune dizaine et celles où il en manque 3"
   ]
  },
  {
   "attachments": {},
   "cell_type": "markdown",
   "metadata": {},
   "source": [
    "### La parité"
   ]
  },
  {
   "cell_type": "code",
   "execution_count": 20,
   "metadata": {},
   "outputs": [
    {
     "data": {
      "image/png": "[encoded data removed]",
      "text/plain": [
       "<Figure size 640x480 with 1 Axes>"
      ]
     },
     "metadata": {},
     "output_type": "display_data"
    }
   ],
   "source": [
    "for i in range(data.shape[0]):  \n",
    "    tirage = data.iloc[i,10]\n",
    "    somme_tirage=[0,0,0,0,0]\n",
    "    for j in range(5):\n",
    "        somme_tirage[j] = int(tirage[j])%2\n",
    "    somme_impaire = sum(somme_tirage)\n",
    "    data.loc[data.index[i],\"nb_impaire\"]=somme_impaire\n",
    "\n",
    "sns.countplot(x=data[\"nb_impaire\"])\n",
    "plt.show()"
   ]
  },
  {
   "cell_type": "code",
   "execution_count": 21,
   "metadata": {},
   "outputs": [
    {
     "name": "stdout",
     "output_type": "stream",
     "text": [
      "Pourcentage de tirage avec 2 ou 3 numero impaire 64.8 %\n"
     ]
    }
   ],
   "source": [
    "print(\"Pourcentage de tirage avec 2 ou 3 numero impaire\",round(data.loc[(data.nb_impaire==2) | (data.nb_impaire==3),\"nb_impaire\"].count()*100/data.shape[0],2),\"%\")"
   ]
  },
  {
   "attachments": {},
   "cell_type": "markdown",
   "metadata": {},
   "source": [
    "## Somme totale des 5 numéeros"
   ]
  },
  {
   "cell_type": "code",
   "execution_count": 22,
   "metadata": {},
   "outputs": [],
   "source": [
    "for i in range(data.shape[0]):\n",
    "    liste_str=data.iloc[i,10]\n",
    "    liste_int = []\n",
    "    for element in liste_str:\n",
    "        liste_int.append(int(element))\n",
    "        data.loc[data.index[i],\"somme_tirage\"]=sum(liste_int)"
   ]
  },
  {
   "cell_type": "code",
   "execution_count": 23,
   "metadata": {},
   "outputs": [
    {
     "name": "stdout",
     "output_type": "stream",
     "text": [
      "126.54748603351955\n"
     ]
    }
   ],
   "source": [
    "print(data.somme_tirage.mean())"
   ]
  },
  {
   "cell_type": "code",
   "execution_count": 24,
   "metadata": {},
   "outputs": [
    {
     "name": "stdout",
     "output_type": "stream",
     "text": [
      "125.0\n"
     ]
    }
   ],
   "source": [
    "numeros = list(range(1, 50))\n",
    "combinaison = itertools.combinations(numeros, 5)\n",
    "moyenne=[]\n",
    "for combi in combinaison:\n",
    "    tirage = list(combi)\n",
    "    result=sum(tirage)\n",
    "    moyenne.append(result)\n",
    "moyenne_all_tirages= sum(moyenne)/len(moyenne)\n",
    "print(moyenne_all_tirages)"
   ]
  },
  {
   "cell_type": "code",
   "execution_count": 25,
   "metadata": {},
   "outputs": [
    {
     "data": {
      "image/png": "[encoded data removed]",
      "text/plain": [
       "<Figure size 640x480 with 1 Axes>"
      ]
     },
     "metadata": {},
     "output_type": "display_data"
    }
   ],
   "source": [
    "sns.boxplot(x=data.somme_tirage)\n",
    "plt.show()"
   ]
  },
  {
   "cell_type": "code",
   "execution_count": 26,
   "metadata": {},
   "outputs": [
    {
     "name": "stdout",
     "output_type": "stream",
     "text": [
      "Q1 =  105.0 \n",
      "mediane =  127.0 \n",
      "Q3 =  147.0\n"
     ]
    }
   ],
   "source": [
    "Q1,Q2,Q3 = data[\"somme_tirage\"].quantile([0.25,0.5,0.75])\n",
    "print(\"Q1 = \",Q1,\"\\nmediane = \",Q2,\"\\nQ3 = \",Q3)"
   ]
  },
  {
   "attachments": {},
   "cell_type": "markdown",
   "metadata": {},
   "source": [
    "### 50% des tirages se trouvent entre 105 et 147 \n",
    "### Sur les tirages déja réalisé la somme moyenne des tirages est de 127 alos que statistiquement elle devrait être de 125 => plutôt chercher des tirages inférieur à 127"
   ]
  },
  {
   "attachments": {},
   "cell_type": "markdown",
   "metadata": {},
   "source": [
    "---\n",
    "---\n",
    "---"
   ]
  },
  {
   "attachments": {},
   "cell_type": "markdown",
   "metadata": {},
   "source": [
    "# Recuperation des infos des derniers tirages récupérés"
   ]
  },
  {
   "cell_type": "code",
   "execution_count": 27,
   "metadata": {},
   "outputs": [
    {
     "name": "stdout",
     "output_type": "stream",
     "text": [
      "SAMEDI   08/04/2023\n",
      "N° : 20233042\n"
     ]
    }
   ],
   "source": [
    "print(data.iloc[0,1], data.iloc[0,2])\n",
    "print(\"N° :\", data.iloc[0,0])"
   ]
  },
  {
   "attachments": {},
   "cell_type": "markdown",
   "metadata": {},
   "source": [
    "# Algo permettant de minimiser le nombre de combinaisons à jouer"
   ]
  },
  {
   "cell_type": "markdown",
   "metadata": {},
   "source": []
  },
  {
   "attachments": {},
   "cell_type": "markdown",
   "metadata": {},
   "source": [
    "### nombre de combinaison total des 5 boules uniquement"
   ]
  },
  {
   "cell_type": "code",
   "execution_count": 28,
   "metadata": {},
   "outputs": [
    {
     "name": "stdout",
     "output_type": "stream",
     "text": [
      "Nombre de combinaisons possible des 5 boules :  1906884\n"
     ]
    }
   ],
   "source": [
    "# Création d'une liste des numéros possibles (1-49)\n",
    "numeros = list(range(1, 50))\n",
    "combinaison = itertools.combinations(numeros, 5)\n",
    "count=0\n",
    "for combi in combinaison:\n",
    "    count+=1\n",
    "print(\"Nombre de combinaisons possible des 5 boules : \", count)"
   ]
  },
  {
   "attachments": {},
   "cell_type": "markdown",
   "metadata": {},
   "source": [
    "### Nombre de combinaisons des 5 boules en retirants les tirages peu probable"
   ]
  },
  {
   "cell_type": "code",
   "execution_count": 29,
   "metadata": {},
   "outputs": [],
   "source": [
    "# Comparer les numéros voulus par l'utilisateur à ceux présent dans le tirage\n",
    "def numeros_voulus(tirage,liste_numeros_voulus):\n",
    "    count=0\n",
    "    for i in liste_numeros_voulus:\n",
    "        if i in tirage:\n",
    "            count+=1\n",
    "        else:\n",
    "            pass\n",
    "    if count==len(liste_numeros_voulus):\n",
    "        return True\n",
    "    else:\n",
    "        return False\n",
    "\n",
    "# Comparer les numéros non voulus par l'utilisateur à ceux présent dans le tirage\n",
    "def numeros_non_voulus(tirage,liste_numeros_non_voulus):\n",
    "    count=0\n",
    "    for i in liste_numeros_non_voulus:\n",
    "        if i in tirage:\n",
    "            count+=1\n",
    "        else:\n",
    "            pass\n",
    "    if count==0:\n",
    "        return True\n",
    "    else:\n",
    "        return False\n",
    "    \n",
    "# Retirer les tirages qui ont 3 chiffres consécutifs\n",
    "def numeros_consecutifs_3(tirage,option):\n",
    "    if option==True:\n",
    "        count=0        \n",
    "        for j in range(3):\n",
    "            if (int(tirage[j])+1==int(tirage[j+1])) and (int(tirage[j+1])+1==int(tirage[j+2])): # si 3 numero consecutifs differetns alors on continue la selection\n",
    "                count+=1\n",
    "            else:\n",
    "                pass\n",
    "        if count==0:\n",
    "            return True\n",
    "        else:\n",
    "            return False\n",
    "    else:\n",
    "        return True\n",
    "    \n",
    "# Retirer les tirages qui ont 2 chiffres consecutifs\n",
    "def numeros_consecutifs_2(tirage,option):\n",
    "    count=0\n",
    "    for i in range(4):\n",
    "        if tirage[i]+1==tirage[i+1] and tirage[i+1]+1==tirage[i+2]:\n",
    "            return False\n",
    "        else: \n",
    "            return True\n",
    "    \n",
    "\n",
    "# Choix du nombre de dizaine repésentées dans le tirage\n",
    "def nb_dizaine(tirage,dizaine):\n",
    "    result=[0,0,0,0,0]      \n",
    "    for j in tirage:\n",
    "        if j<10:\n",
    "            result[0]+=1\n",
    "        elif j>=10 and j<20:      #\n",
    "            result[1]+=1                    #\n",
    "        elif j>=20 and j<30:      #   On va classer chaque chiffre d'un tirage dans une dizaine\n",
    "            result[2]+=1                    #\n",
    "        elif j>=30 and j<40:      #\n",
    "            result[3]+=1\n",
    "        else:\n",
    "            result[4]+=1\n",
    "    diz = op.countOf(result, 0)        #   On regarde le nombre de dizaine à 0          \n",
    "    diz_min, diz_max=dizaine[0], dizaine[1]\n",
    "    if diz>=diz_min and diz<=diz_max:\n",
    "        return True\n",
    "    else:\n",
    "        return False\n",
    "\n",
    "def nb_paire(tirage,liste_parite):\n",
    "    parite=[0,0,0,0,0]      \n",
    "    for j in range(5):                   \n",
    "        parite[j] = tirage[j]%2\n",
    "    somme_impaire = sum(parite)\n",
    "    if somme_impaire>=liste_parite[0] and somme_impaire<=liste_parite[1]:\n",
    "        return True\n",
    "    else:\n",
    "        return False\n",
    "    \n",
    "def somme(tirage, liste_somme):\n",
    "    somme_tirage=sum(tirage)\n",
    "    if somme_tirage>=liste_somme[0] and somme_tirage<=liste_somme[1]:     # si la somme des chiffres du tirage est compris dans la fourchette alors on continue\n",
    "        return True\n",
    "    else:\n",
    "        return False"
   ]
  },
  {
   "cell_type": "code",
   "execution_count": 30,
   "metadata": {},
   "outputs": [
    {
     "name": "stdout",
     "output_type": "stream",
     "text": [
      "Combinaisons restantes : 623\n"
     ]
    }
   ],
   "source": [
    "option_suivi_3 = True # Si la combinaison contient 3 numéros qui se suivent la combinaison ne sera pas retenue\n",
    "option_suivi_2 = True\n",
    "parite=[2,3]\n",
    "liste_somme=[105,130]\n",
    "numeros = list(range(1, 50))\n",
    "combinaison = itertools.combinations(numeros, 5)\n",
    "numeros_utilisateur=[18,1]\n",
    "numeros_non_utilisateur=[8,45]\n",
    "dizaine=[2,3] # Tranche de dizaine voulues\n",
    "count =0\n",
    "jeux_df = pd.DataFrame(columns=['N1','N2','N3','N4','N5','NChance'])\n",
    "boule_chance=10\n",
    "\n",
    "for combi in combinaison:\n",
    "    tirage = list(combi)\n",
    "    if numeros_voulus(tirage,numeros_utilisateur): # SI un numéros voulus par l'utilisateur est présent dans le tirage on continu \n",
    "        if numeros_non_voulus(tirage,numeros_non_utilisateur): # SI un numéro non voulu par l'utilisateur est présent on retire le tirage\n",
    "            if numeros_consecutifs_3(tirage,option_suivi_3): # S'il y a 3 chiffres consécutif on supprime le tirage\n",
    "                if nb_dizaine(tirage,dizaine): # On ne garde que les tirages avec le nombre de dizaines voulus par l'utilisateur\n",
    "                    if numeros_consecutifs_2(tirage,option_suivi_3): # Si deux numéros consécutifs on supprime le tirage\n",
    "                        if nb_paire(tirage,parite): # Si un tirage ne contient pas le nombre de numéro paire voulu par l'utilisateur il sera retiré\n",
    "                            if somme(tirage,liste_somme):# Si la somme des num\"ros du tirage correspond à la fourchette voulue par l'utilisateur on conserve le tirage\n",
    "                                tirage.append(boule_chance)\n",
    "                                temp_df = pd.DataFrame({'N1':tirage[0],'N2':tirage[1],'N3':tirage[2],\n",
    "                                                       'N4':tirage[3],'N5':tirage[4],'NChance':tirage[5]},index=[0])\n",
    "                                jeux_df = pd.concat([jeux_df, temp_df], ignore_index=True)\n",
    "                                count+=1\n",
    "                            else:\n",
    "                                pass\n",
    "                        else:\n",
    "                            pass\n",
    "                    else:\n",
    "                        pass\n",
    "                else:\n",
    "                    pass\n",
    "            else:\n",
    "                pass\n",
    "        else:\n",
    "            pass\n",
    "    else:\n",
    "        pass\n",
    "print(\"Combinaisons restantes :\",count)\n",
    "jeux_df.to_csv('/home/kevin/workspace/py-sql/loto/data/selection.csv')"
   ]
  },
  {
   "cell_type": "code",
   "execution_count": 31,
   "metadata": {},
   "outputs": [
    {
     "data": {
      "text/html": [
       "<div>\n",
       "<style scoped>\n",
       "    .dataframe tbody tr th:only-of-type {\n",
       "        vertical-align: middle;\n",
       "    }\n",
       "\n",
       "    .dataframe tbody tr th {\n",
       "        vertical-align: top;\n",
       "    }\n",
       "\n",
       "    .dataframe thead th {\n",
       "        text-align: right;\n",
       "    }\n",
       "</style>\n",
       "<table border=\"1\" class=\"dataframe\">\n",
       "  <thead>\n",
       "    <tr style=\"text-align: right;\">\n",
       "      <th></th>\n",
       "      <th>Unnamed: 0</th>\n",
       "      <th>N1</th>\n",
       "      <th>N2</th>\n",
       "      <th>N3</th>\n",
       "      <th>N4</th>\n",
       "      <th>N5</th>\n",
       "      <th>NChance</th>\n",
       "    </tr>\n",
       "  </thead>\n",
       "  <tbody>\n",
       "    <tr>\n",
       "      <th>0</th>\n",
       "      <td>0</td>\n",
       "      <td>1</td>\n",
       "      <td>2</td>\n",
       "      <td>18</td>\n",
       "      <td>40</td>\n",
       "      <td>47</td>\n",
       "      <td>10</td>\n",
       "    </tr>\n",
       "    <tr>\n",
       "      <th>1</th>\n",
       "      <td>1</td>\n",
       "      <td>1</td>\n",
       "      <td>2</td>\n",
       "      <td>18</td>\n",
       "      <td>40</td>\n",
       "      <td>49</td>\n",
       "      <td>10</td>\n",
       "    </tr>\n",
       "    <tr>\n",
       "      <th>2</th>\n",
       "      <td>2</td>\n",
       "      <td>1</td>\n",
       "      <td>2</td>\n",
       "      <td>18</td>\n",
       "      <td>41</td>\n",
       "      <td>43</td>\n",
       "      <td>10</td>\n",
       "    </tr>\n",
       "    <tr>\n",
       "      <th>3</th>\n",
       "      <td>3</td>\n",
       "      <td>1</td>\n",
       "      <td>2</td>\n",
       "      <td>18</td>\n",
       "      <td>41</td>\n",
       "      <td>44</td>\n",
       "      <td>10</td>\n",
       "    </tr>\n",
       "    <tr>\n",
       "      <th>4</th>\n",
       "      <td>4</td>\n",
       "      <td>1</td>\n",
       "      <td>2</td>\n",
       "      <td>18</td>\n",
       "      <td>41</td>\n",
       "      <td>46</td>\n",
       "      <td>10</td>\n",
       "    </tr>\n",
       "  </tbody>\n",
       "</table>\n",
       "</div>"
      ],
      "text/plain": [
       "   Unnamed: 0  N1  N2  N3  N4  N5  NChance\n",
       "0           0   1   2  18  40  47       10\n",
       "1           1   1   2  18  40  49       10\n",
       "2           2   1   2  18  41  43       10\n",
       "3           3   1   2  18  41  44       10\n",
       "4           4   1   2  18  41  46       10"
      ]
     },
     "execution_count": 31,
     "metadata": {},
     "output_type": "execute_result"
    }
   ],
   "source": [
    "verif = pd.read_csv('/home/kevin/workspace/py-sql/loto/data/selection.csv')\n",
    "verif.head()"
   ]
  },
  {
   "attachments": {},
   "cell_type": "markdown",
   "metadata": {},
   "source": [
    "## Affichage des 5 derniers tirages "
   ]
  },
  {
   "cell_type": "code",
   "execution_count": 32,
   "metadata": {},
   "outputs": [
    {
     "name": "stdout",
     "output_type": "stream",
     "text": [
      "SAMEDI   08/04/2023 19 48 48 3 42 * 10\n",
      "MERCREDI 05/04/2023 31 16 16 29 39 * 2\n",
      "LUNDI    03/04/2023 49 39 39 31 46 * 4\n",
      "SAMEDI   01/04/2023 44 17 17 12 35 * 8\n",
      "MERCREDI 29/03/2023 34 32 32 14 11 * 9\n"
     ]
    }
   ],
   "source": [
    "for i in range(5):\n",
    "    jour = data.iloc[i,1]\n",
    "    date = data.iloc[i,2]\n",
    "    n1 = data.loc[i,\"boule_1\"]\n",
    "    n2 = data.loc[i,\"boule_2\"]\n",
    "    n3 = data.loc[i,\"boule_3\"]\n",
    "    n4 = data.loc[i,\"boule_4\"]\n",
    "    n5 = data.loc[i,\"boule_5\"]\n",
    "    bc = data.loc[i,\"numero_chance\"]\n",
    "    print(jour, date, n1, n3, n3, n4, n5,\"*\", bc)"
   ]
  },
  {
   "attachments": {},
   "cell_type": "markdown",
   "metadata": {},
   "source": [
    "\n",
    "# A faire...\n",
    "                                # faire un code permettant de voir les numéros les mieux assortis ensemlble\n",
    "                                # Ajouter à l'appli streamlit les numeros les mieux assortis\n",
    "                                # Permettre la comparaison des combinaisons sauvegarées avec un tirage\n",
    "                                    => nombre de combinaisons gagnantes, gains générés , plus-values....\n",
    "                                # Ajouter une IA non supervisée pour encore réduire le nombre de possibiltés\n",
    "                                \n",
    "                                "
   ]
  }
 ],
 "metadata": {
  "kernelspec": {
   "display_name": ".venv",
   "language": "python",
   "name": "python3"
  },
  "language_info": {
   "codemirror_mode": {
    "name": "ipython",
    "version": 3
   },
   "file_extension": ".py",
   "mimetype": "text/x-python",
   "name": "python",
   "nbconvert_exporter": "python",
   "pygments_lexer": "ipython3",
   "version": "3.8.10"
  },
  "orig_nbformat": 4,
  "vscode": {
   "interpreter": {
    "hash": "108a5032cbd31f51f5acbfa6795c78c597efaad171099a951ce973da071534bc"
   }
  }
 },
 "nbformat": 4,
 "nbformat_minor": 2
}
